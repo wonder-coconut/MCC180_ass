{
 "cells": [
  {
   "attachments": {},
   "cell_type": "markdown",
   "metadata": {},
   "source": [
    "# Quantum trajectories for simulations\n",
    "\n",
    "\n",
    "In this exercise we will implement a rudimentary version of a Quantum trajectory simulation. You are allowed to implement the code either in `python`, `rust`, or in `julia`, all other programming languages are not allowed.\n",
    "You can submit your solution either as pdf generated from jupyter notebook or submit a Latex file, that contains the code, figures, and answers to the questions you will find below. Make sure your figures contain all necessary information and are of high quality, i.e., they should be ready to go into your next paper / thesis.\n"
   ]
  },
  {
   "cell_type": "markdown",
   "metadata": {},
   "source": [
    "## The Wavefunction Monte Carlo (Counting Trajectories) algorithm\n",
    "The algorithm you are supposed to implement includes the following steps:\n",
    "* Choose a time interval $\\tau$ short on the time scale of the relaxation, but long compared to the reservoir correlation time, so to ensure that the probability of a jump $p_\\mu(t)=$ $\\tau\\left\\langle\\psi(t)\\left|\\hat{\\Gamma}_\\mu^{\\dagger} \\hat{\\Gamma}_\\mu\\right| \\psi(t)\\right\\rangle \\ll 1$ for any $\\mu$ and any $t$. Moreover, $\\tau$ should be small enough to ensure a smooth integration of the deterministic part of the master equation.\n",
    "\n",
    "* Initialize the state to the chosen |ψ(t = 0)⟩\n",
    "\n",
    "* For each time interval $\\tau$ over the total evolution time, evolve the quantum state $|\\psi(t)\\rangle$ according to to the rules:\n",
    "\n",
    "1. Compute $p_\\mu=\\tau\\left\\langle\\psi(t)\\left|\\hat{\\Gamma}_\\mu^{\\dagger} \\hat{\\Gamma}_\\mu\\right| \\psi(t)\\right\\rangle$ for every $\\mu=1 \\ldots n$ and $p_0=1-\\sum_{\\mu \\neq 0} p_\\mu$.\n",
    "2. Construct the variables $P_{-1}=0, P_0=p_0, P_1=p_0+p_1, \\ldots, P_n=1$.\n",
    "3. Extract a random number $r \\in[0,1]$.\n",
    "4. Find the element of $\\bar{\\mu}$ such that $P_{\\bar{\\mu}-1}<r<P_{\\bar{\\mu}}$.\n",
    "5. If $\\bar{\\mu}=0$, evolve\n",
    "$$\n",
    "|\\psi(t+\\tau)\\rangle=\\frac{1-\\mathrm{i} \\hat{H} \\tau-\\tau \\sum_\\mu \\hat{\\Gamma}_\\mu^{\\dagger} \\hat{\\Gamma}_\\mu / 2}{\\sqrt{p_0}}|\\psi(t)\\rangle\n",
    "$$\n",
    "6. Else,\n",
    "$$\n",
    "|\\psi(t+\\tau)\\rangle=\\frac{\\hat{\\Gamma}_{\\bar{\\mu}}}{\\sqrt{\\left\\langle\\hat{\\Gamma}_{\\bar{\\mu}}^{\\dagger} \\hat{\\Gamma}_{\\bar{\\mu}}\\right\\rangle}}|\\psi(t)\\rangle\n",
    "$$\n",
    "* Create a new trajectory, and repeat until the wanted number of trajectories has been computed.\n",
    "\n",
    "While more efficient versions of quantum trajectory simulations exists, this one sufficient to teach you about the fundamentals and does not require more advanced numerical integration techniques such as adaptive time-stepping.\n",
    "\n"
   ]
  },
  {
   "attachments": {},
   "cell_type": "markdown",
   "metadata": {},
   "source": [
    "## Task 1 [8 points]\n",
    "We will restrict in this exercises to states and operators in $\\mathbb{C}^2$ and $\\mathbb{C}^{2\\times 2}$, respectively. It is therefore sufficient if your code works only on this predefined vector space.\n",
    "* For future tasks we will need to implement states and operators. First, implement a function that allows you create an arbitrary single qubit state $\\vert \\psi \\rangle = \\alpha \\vert 0 \\rangle  + \\beta \\vert 1 \\rangle$. Make sure that the state the function creates is properly normalized. Second, define the Pauli operators $X$ and $Z$ as well as the Hadamard operator $Had$, together with annihilation and creation opeators $\\sigma_{-}$ and $\\sigma_{+}$, respectively.\n",
    "* Steps 1 to 5 in the Wavefunction Monte Carlo (WFMC) algorithm evolve a pure state by a single time step. Choosing one of the programming languages mentioned above, write a function that implements the desired functionality.\n",
    "* Evolving a state $\\psi$ for multiple time-steps $\\tau$ results in a quantum trajectory. Implement a function that creates such a trajectory and evolves an initial state $\\psi_{in}$ up to user-specified time $t_{max}$. Having in mind later tasks in this exercise, the function should return a list (or equivalently an array) of values $[\\vert \\langle 1 \\vert \\psi(0) \\rangle \\vert^2, \\vert \\langle 1 \\vert \\psi(\\tau) \\rangle \\vert^2, \\dots, \\vert \\langle 1 \\vert \\psi(t_{max}) \\rangle \\vert^2]$."
   ]
  },
  {
   "attachments": {},
   "cell_type": "markdown",
   "metadata": {},
   "source": [
    "## Task 2 - Qubit decay [6 points]\n",
    "\n",
    "Having implemented the barebones for WFMC, we can use the algorithm to look at physics problems. The canonical example of this course has been qubit decay. We now want to use the stochastic Schrödinger equation to visualize the decay of a single qubit described by the following master equation\n",
    "$$ \\partial_t \\hat{\\rho}(t)= \\gamma \\mathcal{D}\\left[\\hat{\\sigma}_{-}\\right] \n",
    "\\hat{\\rho}.$$\n",
    "We might choose $\\gamma = 1$ for this task.\n",
    "\n",
    "* Simulate a single trajectory up to time $t_{max} = 10 / \\gamma$ for the initial state $\\vert \\psi \\rangle = \\vert 1 \\rangle$ and plot $\\vert \\langle 1 \\vert \\psi (t) \\rangle\\vert^2$ on the y-axis and the time $t$ on the axis. Explain your choice of $\\tau$. What should the relation betweeen $\\tau$ and $\\gamma$ be? What is happening in the physical system?\n",
    "* Now simulate multiple trajectories, you will have to find out yourself how many are necessary. In a new figure, plot each trajectory individually in the same figure, as well as their average. What kind of functional dependence due you expect for the average value $\\vert \\langle 1 \\vert \\psi (t) \\rangle\\vert^2$. Plot this function as well. How well does it agree with the average? How many trajectories were necessary for to find good agreement between the analytical expectation and numerical average?\n",
    "\n",
    "\n",
    "[Hint: If you are using `python` and you want to optimize the performance of your code, you can take a look at library `numba`, i.e., https://numba.readthedocs.io/en/stable/user/5minguide.html]"
   ]
  },
  {
   "attachments": {},
   "cell_type": "markdown",
   "metadata": {},
   "source": [
    "## Task 2 - Qubit dephasing [6 points]\n",
    "\n",
    "We now want to investigate qubit dephasing using the quantum trajectories approach. To this end, consider the master equation \n",
    "$$ \\partial_t \\hat{\\rho}(t)= -i \\left[\\Delta Z, \\hat{\\rho}\\right] + \\gamma_{\\phi} \\mathcal{D}\\left[Z\\right] \n",
    "\\hat{\\rho},$$\n",
    "where $\\Delta$ is a detuning parameter we will use later. We will simulate now the measurement of the $T_{\\phi}$ time.\n",
    "\n",
    "* Assuming the state $\\vert \\psi \\rangle$ will evolve subject to the above master equation, how should you initialize $\\vert \\psi \\rangle$ and the expectation value of which observable should you calculate in order to estimate $T_{\\phi}$?\n",
    "* Adjust the code you have written above for a single trajectory, such that you can use it to determine $T_{\\phi}$ of the system.\n",
    "* Consider $\\gamma_{\\phi} = 0.25$ for now and set $\\Delta = 0$. Simulate the time evolution of a single trajectory up to $t_{max} = 10$ using  an appropriate value for $\\tau$ and plot the result. What do you observe? Describe the qualitatively using the Bloch sphere picture."
   ]
  },
  {
   "cell_type": "markdown",
   "metadata": {},
   "source": [
    "* Consider now $\\Delta = 0$ and again $\\gamma_{\\phi} = 0.25$ and simulate multiple trajectories for a suitable choice of $\\tau$ until the results converge with analytic form that you derived in Hand-in 1. Again, plot each trajectory individually in the same figure, as well as their average. \n",
    "Note that the results won't converge as nicely as in the case of qubit decay. Give an intuitive explanation for this observation."
   ]
  },
  {
   "cell_type": "markdown",
   "metadata": {},
   "source": [
    "* Now consider non-zero $\\Delta$, i.e., $\\Delta = 1.5$ and repeat the task above for this parameter set. Additionally, either plot an individual trajectory in another figure or highlight one in the plot with multiple trajectories. Explain what is happening. What is the role of $\\Delta$? What has changed in comparison to the case of $\\Delta = 0.$"
   ]
  },
  {
   "attachments": {},
   "cell_type": "markdown",
   "metadata": {},
   "source": [
    "## Determining $T_2$ in a qubit. [4 points]\n",
    "\n",
    "We now want to combine qubit dephasing and qubit decay in our simulations, i.e, we want to simulate with quantum trajectories the master equation\n",
    "$$ \\partial_t \\hat{\\rho}(t)= -i \\left[\\Delta Z, \\hat{\\rho}\\right] + \\gamma_{\\phi} \\mathcal{D}\\left[Z\\right] \n",
    "\\hat{\\rho} +  + \\gamma \\mathcal{D}\\left[\\sigma_{-}\\right] \n",
    "\\hat{\\rho},$$\n",
    "\n",
    "and determine the relaxation time $T_2$ for this model.\n",
    "\n",
    "* Choose parameters $\\gamma_{\\phi} = 0.25$, $\\gamma = 1.$ and $\\Delta = 2.$. Simulate a couple of individual trajectories until you find one in which one can observe both quantum jumps due to $\\sigma_{-}$ and $Z$. Plot such a trajectory and describe at which time point which kind of jump occured.\n",
    "\n",
    "* As usual simulate multiple trajectories and plot them individually, as well as their average and the theoretical model you expect to observe. \n"
   ]
  },
  {
   "cell_type": "markdown",
   "metadata": {},
   "source": []
  }
 ],
 "metadata": {
  "kernelspec": {
   "display_name": "Python 3",
   "language": "python",
   "name": "python3"
  },
  "language_info": {
   "file_extension": ".jl",
   "mimetype": "application/julia",
   "name": "python",
   "version": "3.13.0"
  }
 },
 "nbformat": 4,
 "nbformat_minor": 2
}
